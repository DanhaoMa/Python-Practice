{
 "cells": [
  {
   "cell_type": "code",
   "execution_count": 1,
   "metadata": {
    "collapsed": false
   },
   "outputs": [
    {
     "name": "stdout",
     "output_type": "stream",
     "text": [
      "a\n",
      "c\n",
      "e\n",
      "g\n",
      "i\n",
      "k\n"
     ]
    }
   ],
   "source": [
    "S = 'abcdefghijk'\n",
    "for i in range(0,len(S),2):\n",
    "    print S[i]"
   ]
  },
  {
   "cell_type": "code",
   "execution_count": 2,
   "metadata": {
    "collapsed": false
   },
   "outputs": [
    {
     "name": "stdout",
     "output_type": "stream",
     "text": [
      "0 a\n",
      "1 b\n",
      "2 c\n",
      "3 d\n",
      "4 e\n",
      "5 f\n",
      "6 g\n",
      "7 h\n",
      "8 i\n",
      "9 j\n",
      "10 k\n"
     ]
    }
   ],
   "source": [
    "S = 'abcdefghijk'\n",
    "for (index,char) in enumerate(S):\n",
    "    print index,char"
   ]
  },
  {
   "cell_type": "code",
   "execution_count": 5,
   "metadata": {
    "collapsed": false
   },
   "outputs": [
    {
     "name": "stdout",
     "output_type": "stream",
     "text": [
      "[(1, 9), (2, 8), (3, 7)]\n",
      "((1, 2, 3), (9, 8, 7))\n",
      "<type 'tuple'> <type 'tuple'>\n"
     ]
    }
   ],
   "source": [
    "ta = [1,2,3]\n",
    "tb = [9,8,7]\n",
    "\n",
    "# cluster\n",
    "zipped = zip(ta,tb)\n",
    "print(zipped)\n",
    "\n",
    "# decompose\n",
    "na, nb = zip(*zipped)\n",
    "print(na,nb)\n",
    "print type(na), type(nb)"
   ]
  },
  {
   "cell_type": "code",
   "execution_count": 7,
   "metadata": {
    "collapsed": false
   },
   "outputs": [
    {
     "name": "stdout",
     "output_type": "stream",
     "text": [
      "100\n",
      "800\n",
      "1000\n"
     ]
    }
   ],
   "source": [
    "def gen():\n",
    "    a = 100\n",
    "    yield a\n",
    "    a = a*8\n",
    "    yield a\n",
    "    yield 1000\n",
    "for i in gen():\n",
    "    print i"
   ]
  },
  {
   "cell_type": "code",
   "execution_count": 9,
   "metadata": {
    "collapsed": false
   },
   "outputs": [
    {
     "name": "stdout",
     "output_type": "stream",
     "text": [
      "[0, 1, 4, 9, 16, 25, 36, 49, 64, 81]\n"
     ]
    }
   ],
   "source": [
    "L = []\n",
    "for x in range(10):\n",
    "    L.append(x**2)\n",
    "print L"
   ]
  },
  {
   "cell_type": "code",
   "execution_count": 10,
   "metadata": {
    "collapsed": false
   },
   "outputs": [
    {
     "name": "stdout",
     "output_type": "stream",
     "text": [
      "[0, 1, 4, 9, 16, 25, 36, 49, 64, 81]\n"
     ]
    }
   ],
   "source": [
    "L = [x**2 for x in range(10)]\n",
    "print L"
   ]
  },
  {
   "cell_type": "code",
   "execution_count": 11,
   "metadata": {
    "collapsed": false
   },
   "outputs": [
    {
     "name": "stdout",
     "output_type": "stream",
     "text": [
      "test\n",
      "8\n"
     ]
    }
   ],
   "source": [
    "def func(x,y):\n",
    "    return x + y\n",
    "\n",
    "def test(f, a, b):\n",
    "    print 'test'\n",
    "    print f(a, b)\n",
    "    \n",
    "test(func, 3, 5)\n",
    "    "
   ]
  },
  {
   "cell_type": "code",
   "execution_count": 12,
   "metadata": {
    "collapsed": false
   },
   "outputs": [
    {
     "name": "stdout",
     "output_type": "stream",
     "text": [
      "<type 'list'> [4, 6, 8, 9]\n",
      "<type 'list'> [7, 9, 12]\n"
     ]
    }
   ],
   "source": [
    "re = map((lambda x: x+3),[1, 3, 5, 6])\n",
    "re2 = map((lambda x,y: x+y),[1,2,3],[6,7,9])\n",
    "\n",
    "print type(re), re\n",
    "print type(re2), re2"
   ]
  },
  {
   "cell_type": "code",
   "execution_count": 13,
   "metadata": {
    "collapsed": false
   },
   "outputs": [
    {
     "name": "stdout",
     "output_type": "stream",
     "text": [
      "[101, 500]\n"
     ]
    }
   ],
   "source": [
    "def func(a):\n",
    "    if a > 100:\n",
    "        return True\n",
    "    else:\n",
    "        return False\n",
    "    \n",
    "print filter(func,[10,56,101,500])\n",
    "    "
   ]
  },
  {
   "cell_type": "code",
   "execution_count": 14,
   "metadata": {
    "collapsed": false
   },
   "outputs": [
    {
     "name": "stdout",
     "output_type": "stream",
     "text": [
      "24\n"
     ]
    }
   ],
   "source": [
    "print reduce((lambda x,y: x+y),[1,2,5,7,9])"
   ]
  },
  {
   "cell_type": "code",
   "execution_count": 15,
   "metadata": {
    "collapsed": false
   },
   "outputs": [
    {
     "name": "stdout",
     "output_type": "stream",
     "text": [
      "0\n",
      "1\n",
      "2\n",
      "3\n",
      "4\n",
      "Here is end. 5\n",
      "Hahaha\n"
     ]
    }
   ],
   "source": [
    "re = iter(range(5))\n",
    "\n",
    "try:\n",
    "    for i in range(100):\n",
    "        print re.next()\n",
    "except StopIteration:\n",
    "    print 'Here is end.', i\n",
    "    \n",
    "print 'Hahaha'"
   ]
  },
  {
   "cell_type": "code",
   "execution_count": 16,
   "metadata": {
    "collapsed": false
   },
   "outputs": [
    {
     "name": "stdout",
     "output_type": "stream",
     "text": [
      "100\n",
      "1\n"
     ]
    }
   ],
   "source": [
    "def f(x):\n",
    "    x = 100\n",
    "    print x\n",
    "\n",
    "a = 1\n",
    "f(a)\n",
    "print a"
   ]
  },
  {
   "cell_type": "code",
   "execution_count": 17,
   "metadata": {
    "collapsed": false
   },
   "outputs": [
    {
     "name": "stdout",
     "output_type": "stream",
     "text": [
      "[100, 2, 3]\n",
      "[100, 2, 3]\n"
     ]
    }
   ],
   "source": [
    "def f(x):\n",
    "    x[0] = 100\n",
    "    print x\n",
    "\n",
    "a = [1,2,3]\n",
    "f(a)\n",
    "print a"
   ]
  },
  {
   "cell_type": "code",
   "execution_count": 19,
   "metadata": {
    "collapsed": false
   },
   "outputs": [
    {
     "name": "stdout",
     "output_type": "stream",
     "text": [
      "[9, 25]\n"
     ]
    }
   ],
   "source": [
    "x1 = [1,3,5]\n",
    "y1 = [9,12,13]\n",
    "L = [x**2 for (x,y) in zip(x1,y1) if y > 10]\n",
    "print L"
   ]
  },
  {
   "cell_type": "code",
   "execution_count": null,
   "metadata": {
    "collapsed": true
   },
   "outputs": [],
   "source": []
  }
 ],
 "metadata": {
  "kernelspec": {
   "display_name": "Python 2",
   "language": "python",
   "name": "python2"
  },
  "language_info": {
   "codemirror_mode": {
    "name": "ipython",
    "version": 2
   },
   "file_extension": ".py",
   "mimetype": "text/x-python",
   "name": "python",
   "nbconvert_exporter": "python",
   "pygments_lexer": "ipython2",
   "version": "2.7.10"
  }
 },
 "nbformat": 4,
 "nbformat_minor": 0
}
