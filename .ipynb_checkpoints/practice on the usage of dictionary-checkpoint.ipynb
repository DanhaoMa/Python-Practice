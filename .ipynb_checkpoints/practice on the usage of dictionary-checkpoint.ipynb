{
 "cells": [
  {
   "cell_type": "code",
   "execution_count": 1,
   "metadata": {
    "collapsed": false
   },
   "outputs": [
    {
     "name": "stdout",
     "output_type": "stream",
     "text": [
      "<type 'dict'>\n"
     ]
    }
   ],
   "source": [
    "dic = {'tom':11, 'sam':57, 'lily':100}\n",
    "print type(dic)"
   ]
  },
  {
   "cell_type": "code",
   "execution_count": 2,
   "metadata": {
    "collapsed": false
   },
   "outputs": [
    {
     "name": "stdout",
     "output_type": "stream",
     "text": [
      "11\n"
     ]
    }
   ],
   "source": [
    "print dic['tom']"
   ]
  },
  {
   "cell_type": "code",
   "execution_count": 3,
   "metadata": {
    "collapsed": false
   },
   "outputs": [
    {
     "name": "stdout",
     "output_type": "stream",
     "text": [
      "{'lily': 100, 'sam': 57, 'tom': 30}\n"
     ]
    }
   ],
   "source": [
    "dic['tom'] = 30\n",
    "print dic"
   ]
  },
  {
   "cell_type": "code",
   "execution_count": 4,
   "metadata": {
    "collapsed": false
   },
   "outputs": [
    {
     "name": "stdout",
     "output_type": "stream",
     "text": [
      "{'lilei': 99, 'lily': 100, 'sam': 57, 'tom': 30}\n"
     ]
    }
   ],
   "source": [
    "dic['lilei'] = 99\n",
    "print dic"
   ]
  },
  {
   "cell_type": "code",
   "execution_count": 5,
   "metadata": {
    "collapsed": false
   },
   "outputs": [
    {
     "name": "stdout",
     "output_type": "stream",
     "text": [
      "99\n",
      "100\n",
      "57\n",
      "30\n"
     ]
    }
   ],
   "source": [
    "for key in dic:\n",
    "    print dic[key]"
   ]
  },
  {
   "cell_type": "code",
   "execution_count": 6,
   "metadata": {
    "collapsed": false
   },
   "outputs": [
    {
     "name": "stdout",
     "output_type": "stream",
     "text": [
      "['lilei', 'lily', 'sam', 'tom']\n",
      "[99, 100, 57, 30]\n",
      "[('lilei', 99), ('lily', 100), ('sam', 57), ('tom', 30)]\n",
      "{}\n"
     ]
    }
   ],
   "source": [
    "print dic.keys()\n",
    "print dic.values()\n",
    "print dic.items()\n",
    "dic.clear()\n",
    "print dic"
   ]
  },
  {
   "cell_type": "code",
   "execution_count": 7,
   "metadata": {
    "collapsed": false
   },
   "outputs": [
    {
     "name": "stdout",
     "output_type": "stream",
     "text": [
      "{'tom': 100}\n"
     ]
    }
   ],
   "source": [
    "dic['tom'] = 100\n",
    "print dic"
   ]
  },
  {
   "cell_type": "code",
   "execution_count": 12,
   "metadata": {
    "collapsed": false
   },
   "outputs": [
    {
     "name": "stdout",
     "output_type": "stream",
     "text": [
      "{'lilei': 100, 'tom': 100}\n",
      "{'lilei': 100}\n",
      "1\n"
     ]
    }
   ],
   "source": [
    "dic['tom'] = 100\n",
    "print dic\n",
    "del dic['tom']\n",
    "print dic\n",
    "dic['lilei'] = 100\n",
    "print len(dic)"
   ]
  },
  {
   "cell_type": "code",
   "execution_count": 14,
   "metadata": {
    "collapsed": false
   },
   "outputs": [
    {
     "name": "stdout",
     "output_type": "stream",
     "text": [
      "6\n",
      "6\n",
      "6\n"
     ]
    }
   ],
   "source": [
    "def f(a,b,c):\n",
    "    return a+b+c\n",
    "print(f(1,2,3))\n",
    "print(f(c=3,a=1,b=2))\n",
    "print(f(1,c=3,b=2))"
   ]
  },
  {
   "cell_type": "code",
   "execution_count": 15,
   "metadata": {
    "collapsed": false
   },
   "outputs": [
    {
     "name": "stdout",
     "output_type": "stream",
     "text": [
      "15\n",
      "6\n",
      "13\n"
     ]
    }
   ],
   "source": [
    "def f(a,b,c=10):\n",
    "    return a+b+c\n",
    "print(f(3,2))\n",
    "print(f(3,2,1))\n",
    "print(f(1,2))"
   ]
  },
  {
   "cell_type": "code",
   "execution_count": 16,
   "metadata": {
    "collapsed": false
   },
   "outputs": [
    {
     "name": "stdout",
     "output_type": "stream",
     "text": [
      "<type 'tuple'>\n",
      "(1, 4, 6)\n",
      "<type 'tuple'>\n",
      "(5, 6, 7, 1, 2, 3)\n"
     ]
    }
   ],
   "source": [
    "def func(*name):\n",
    "    print type(name)\n",
    "    print name\n",
    "\n",
    "func(1,4,6)\n",
    "func(5,6,7,1,2,3)"
   ]
  },
  {
   "cell_type": "code",
   "execution_count": 1,
   "metadata": {
    "collapsed": false
   },
   "outputs": [
    {
     "name": "stdout",
     "output_type": "stream",
     "text": [
      "1 3 4\n"
     ]
    }
   ],
   "source": [
    "def func(a,b,c):\n",
    "    print a,b,c\n",
    "\n",
    "args = (1,3,4)\n",
    "func(*args)"
   ]
  },
  {
   "cell_type": "code",
   "execution_count": null,
   "metadata": {
    "collapsed": true
   },
   "outputs": [],
   "source": []
  }
 ],
 "metadata": {
  "kernelspec": {
   "display_name": "Python 2",
   "language": "python",
   "name": "python2"
  },
  "language_info": {
   "codemirror_mode": {
    "name": "ipython",
    "version": 2
   },
   "file_extension": ".py",
   "mimetype": "text/x-python",
   "name": "python",
   "nbconvert_exporter": "python",
   "pygments_lexer": "ipython2",
   "version": "2.7.10"
  }
 },
 "nbformat": 4,
 "nbformat_minor": 0
}
